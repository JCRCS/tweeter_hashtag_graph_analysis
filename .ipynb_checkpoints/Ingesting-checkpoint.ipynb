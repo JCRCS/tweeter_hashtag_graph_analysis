{
 "cells": [
  {
   "cell_type": "markdown",
   "metadata": {},
   "source": [
    "# Ingesting realtime tweets "
   ]
  },
  {
   "cell_type": "code",
   "execution_count": 41,
   "metadata": {},
   "outputs": [],
   "source": [
    "import tweepy\n",
    "import time\n",
    "from kafka import KafkaConsumer, KafkaProducer"
   ]
  },
  {
   "cell_type": "markdown",
   "metadata": {},
   "source": [
    "### Twitter setup"
   ]
  },
  {
   "cell_type": "code",
   "execution_count": 42,
   "metadata": {},
   "outputs": [],
   "source": [
    "# twitter setup\n",
    "consumer_key = \"3cSaGgMXZGNtHw2nGMzS67oZ0\"\n",
    "consumer_secret = \"uK2Ny7rD0RYmjku54LVpRjxG6EPMGYKmzkHAze1XT1OgpDHDEf\"\n",
    "access_token = \"933397205985218570-stOqCQwrfaj66WdxKZxWaPtu7SVjPqJ\"\n",
    "access_token_secret = \"STPtNp6QhwGylbuFYd73UXQ7FT6GYSWYcr6GdUMHJnBQ8\"\n",
    "# Auth\n",
    "auth = tweepy.OAuthHandler(consumer_key, consumer_secret)\n",
    "auth.set_access_token(access_token, access_token_secret)\n",
    "api = tweepy.API(auth) "
   ]
  },
  {
   "cell_type": "markdown",
   "metadata": {},
   "source": [
    "# redshift"
   ]
  },
  {
   "cell_type": "code",
   "execution_count": 43,
   "metadata": {},
   "outputs": [],
   "source": [
    "import psycopg2"
   ]
  },
  {
   "cell_type": "code",
   "execution_count": 44,
   "metadata": {},
   "outputs": [],
   "source": [
    "config = { 'dbname': 'dev', \n",
    "           'user':'root',\n",
    "           'pwd':'PublicoRoot1',\n",
    "           'host':'datampcluster.c7onviryvrw8.us-east-2.redshift.amazonaws.com',\n",
    "           'port':'5439'\n",
    "         }"
   ]
  },
  {
   "cell_type": "code",
   "execution_count": 45,
   "metadata": {},
   "outputs": [],
   "source": [
    "conn =  psycopg2.connect(dbname=config['dbname'], host=config['host'], \n",
    "                              port=config['port'], user=config['user'], \n",
    "                              password=config['pwd'])"
   ]
  },
  {
   "cell_type": "markdown",
   "metadata": {},
   "source": [
    "normalize the time"
   ]
  },
  {
   "cell_type": "code",
   "execution_count": 46,
   "metadata": {},
   "outputs": [],
   "source": [
    "from datetime import datetime, timedelta\n",
    "\n",
    "def normalize_timestamp(time):\n",
    "    mytime = datetime.strptime(time, \"%Y-%m-%d %H:%M:%S\")\n",
    "    mytime += timedelta(hours=1)   # the tweets are timestamped in GMT timezone, while I am in +1 timezone\n",
    "    return (mytime.strftime(\"%Y-%m-%d %H:%M:%S\")) "
   ]
  },
  {
   "cell_type": "markdown",
   "metadata": {},
   "source": [
    "### Kafka producer"
   ]
  },
  {
   "cell_type": "code",
   "execution_count": 47,
   "metadata": {},
   "outputs": [],
   "source": [
    "producer = KafkaProducer(bootstrap_servers='localhost:9092')\n",
    "topic_name = 'DM'"
   ]
  },
  {
   "cell_type": "markdown",
   "metadata": {},
   "source": [
    "\n",
    "    - id \n",
    "    - created_at\n",
    "    - followers_count\n",
    "    - location\n",
    "    - favorite_count\n",
    "    - retweet_count"
   ]
  },
  {
   "cell_type": "code",
   "execution_count": 48,
   "metadata": {},
   "outputs": [],
   "source": [
    "def compute_get_twit_count(conn, get_count,twit_count):\n",
    "    curs = conn.cursor()\n",
    "    curs.execute(\"\"\" \n",
    "        insert into twit_count(counts)\n",
    "        select \"\"\"+str(twit_count)+\"\"\";\n",
    "        insert into get_twit_count(counts)\n",
    "        select \"\"\"+str(get_count)+\"\"\";\n",
    "    \"\"\")\n",
    "    curs.close()\n",
    "    conn.commit()\n"
   ]
  },
  {
   "cell_type": "code",
   "execution_count": 49,
   "metadata": {},
   "outputs": [],
   "source": [
    "def get_twitter_data():\n",
    "    res = api.search(\"#happy\",rpp = 100,count=1000)\n",
    "    twit_count = 0\n",
    "    for i in res:\n",
    "        twit_count += 1\n",
    "        record = ''\n",
    "        record += str(i.user.id_str)\n",
    "        record += ';'\n",
    "        record += str(normalize_timestamp(str(i.created_at)))\n",
    "        record += ';'\n",
    "        record += str(i.user.followers_count)\n",
    "        record += ';'\n",
    "        record += str(i.user.location)\n",
    "        record += ';'\n",
    "        record += str(i.favorite_count)\n",
    "        record += ';'\n",
    "        record += str(i.retweet_count)\n",
    "        record += ';'\n",
    "        producer.send(topic_name, str.encode(record))\n",
    "    return twit_count"
   ]
  },
  {
   "cell_type": "code",
   "execution_count": 30,
   "metadata": {},
   "outputs": [
    {
     "name": "stdout",
     "output_type": "stream",
     "text": [
      "100\n",
      "24\n",
      "19\n",
      "6\n",
      "12\n",
      "4\n",
      "0\n",
      "not founded\n",
      "1045250906021941248 ; 165\n"
     ]
    },
    {
     "ename": "NameError",
     "evalue": "name 'interval' is not defined",
     "output_type": "error",
     "traceback": [
      "Traceback \u001b[1;36m(most recent call last)\u001b[0m:\n",
      "\u001b[1;36m  File \u001b[1;32m\"<ipython-input-30-cad5d1bf64aa>\"\u001b[1;36m, line \u001b[1;32m10\u001b[1;36m, in \u001b[1;35m<module>\u001b[1;36m\u001b[0m\n\u001b[1;33m    time.sleep(interval)\u001b[0m\n",
      "\u001b[1;31mNameError\u001b[0m\u001b[1;31m:\u001b[0m name 'interval' is not defined\n"
     ]
    }
   ],
   "source": [
    "get_count = 0\n",
    "twit_count = 0\n",
    "count = 0\n",
    "last_id = -1\n",
    "count += 1\n",
    "get_count += 1\n",
    "aux_twit_count , last_id = get_twitter_data(last_id)\n",
    "print (str(last_id)+\" ; \"+str(aux_twit_count))\n",
    "twit_count += aux_twit_count\n",
    "time.sleep(interval)"
   ]
  },
  {
   "cell_type": "code",
   "execution_count": 50,
   "metadata": {},
   "outputs": [],
   "source": [
    "def get_twitter_data(last_id):\n",
    "    query = 'happy'\n",
    "    max_tweets = 1000\n",
    "    searched_tweets = []\n",
    "    while len(searched_tweets) < max_tweets:\n",
    "        count = max_tweets - len(searched_tweets)\n",
    "        try:\n",
    "            new_tweets = api.search(q=query, count=count, since_id=str(last_id ))\n",
    "            print (len(new_tweets))\n",
    "            if not new_tweets:\n",
    "                print (\"not founded\")\n",
    "                break\n",
    "            searched_tweets.extend(new_tweets)\n",
    "            last_id = new_tweets[0].id\n",
    "        except tweepy.TweepError as e:\n",
    "            # depending on TweepError.code, one may want to retry or wait\n",
    "            # to keep things simple, we will give up on an error\n",
    "            print (e)\n",
    "            break\n",
    "    twit_count = 0\n",
    "    for i in searched_tweets:\n",
    "        twit_count += 1\n",
    "        record = ''\n",
    "        record += str(i.user.id_str)\n",
    "        record += ';'\n",
    "        record += str(normalize_timestamp(str(i.created_at)))\n",
    "        record += ';'\n",
    "        record += str(i.user.followers_count)\n",
    "        record += ';'\n",
    "        record += str(i.user.location)\n",
    "        record += ';'\n",
    "        record += str(i.favorite_count)\n",
    "        record += ';'\n",
    "        record += str(i.retweet_count)\n",
    "        record += ';'\n",
    "        producer.send(topic_name, str.encode(record))\n",
    "    return twit_count, last_id"
   ]
  },
  {
   "cell_type": "markdown",
   "metadata": {},
   "source": [
    "### Deployment "
   ]
  },
  {
   "cell_type": "code",
   "execution_count": 51,
   "metadata": {},
   "outputs": [],
   "source": [
    "def periodic_work(interval):\n",
    "    get_count = 0\n",
    "    twit_count = 0\n",
    "    count = 0\n",
    "    last_id = -1\n",
    "    while True:\n",
    "        count += 1\n",
    "        get_count += 1\n",
    "        aux_twit_count , last_id = get_twitter_data(last_id)\n",
    "        print (str(last_id)+\" ; \"+str(aux_twit_count))\n",
    "        twit_count += aux_twit_count\n",
    "        if count == 20:\n",
    "            compute_get_twit_count(conn, get_count, twit_count)\n",
    "            twit_count = 0\n",
    "        #interval should be an integer, the number of seconds to wait\n",
    "        time.sleep(interval)\n"
   ]
  },
  {
   "cell_type": "code",
   "execution_count": null,
   "metadata": {},
   "outputs": [
    {
     "name": "stdout",
     "output_type": "stream",
     "text": [
      "100\n",
      "46\n",
      "15\n",
      "18\n",
      "22\n",
      "28\n",
      "22\n",
      "28\n",
      "25\n",
      "22\n",
      "18\n",
      "21\n",
      "12\n",
      "11\n",
      "8\n",
      "9\n",
      "12\n",
      "11\n",
      "11\n",
      "17\n",
      "15\n",
      "18\n",
      "16\n",
      "13\n",
      "16\n",
      "27\n",
      "24\n",
      "9\n",
      "15\n",
      "16\n",
      "7\n",
      "40\n",
      "25\n",
      "16\n",
      "28\n",
      "25\n",
      "21\n",
      "16\n",
      "24\n",
      "24\n",
      "20\n",
      "10\n",
      "7\n",
      "5\n",
      "5\n",
      "11\n",
      "20\n",
      "25\n",
      "11\n",
      "24\n",
      "11\n",
      "1045291037105754112 ; 1000\n",
      "100\n",
      "40\n",
      "17\n",
      "11\n",
      "33\n",
      "24\n",
      "19\n",
      "16\n",
      "11\n",
      "16\n",
      "10\n",
      "16\n",
      "18\n",
      "17\n",
      "12\n",
      "20\n",
      "14\n",
      "17\n",
      "31\n",
      "23\n",
      "11\n",
      "8\n",
      "15\n",
      "16\n",
      "18\n",
      "17\n",
      "27\n",
      "24\n",
      "17\n",
      "25\n",
      "8\n",
      "19\n",
      "35\n",
      "37\n",
      "26\n",
      "26\n",
      "15\n",
      "14\n",
      "25\n",
      "11\n",
      "16\n",
      "11\n",
      "14\n",
      "15\n",
      "22\n",
      "15\n",
      "13\n",
      "27\n",
      "8\n",
      "1045291532876746753 ; 1000\n",
      "100\n",
      "47\n",
      "19\n",
      "10\n",
      "21\n",
      "32\n",
      "27\n",
      "16\n",
      "11\n",
      "18\n",
      "17\n",
      "21\n",
      "20\n",
      "16\n",
      "17\n",
      "16\n",
      "16\n",
      "17\n",
      "24\n",
      "30\n",
      "27\n",
      "22\n",
      "30\n",
      "24\n",
      "26\n",
      "23\n",
      "15\n",
      "10\n",
      "11\n",
      "16\n",
      "11\n",
      "28\n",
      "24\n",
      "26\n",
      "32\n",
      "16\n",
      "21\n",
      "22\n",
      "19\n",
      "26\n"
     ]
    }
   ],
   "source": [
    "periodic_work(60)  # get data every couple of minutes"
   ]
  },
  {
   "cell_type": "code",
   "execution_count": null,
   "metadata": {},
   "outputs": [],
   "source": []
  }
 ],
 "metadata": {
  "kernelspec": {
   "display_name": "Python 3",
   "language": "python",
   "name": "python3"
  },
  "language_info": {
   "codemirror_mode": {
    "name": "ipython",
    "version": 3
   },
   "file_extension": ".py",
   "mimetype": "text/x-python",
   "name": "python",
   "nbconvert_exporter": "python",
   "pygments_lexer": "ipython3",
   "version": "3.6.7"
  }
 },
 "nbformat": 4,
 "nbformat_minor": 2
}
