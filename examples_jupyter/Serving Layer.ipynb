{
 "cells": [
  {
   "cell_type": "markdown",
   "metadata": {},
   "source": [
    "# serving layer "
   ]
  },
  {
   "cell_type": "code",
   "execution_count": 12,
   "metadata": {},
   "outputs": [],
   "source": [
    "import psycopg2"
   ]
  },
  {
   "cell_type": "markdown",
   "metadata": {},
   "source": [
    "\n",
    "### Creating the serving layer"
   ]
  },
  {
   "cell_type": "code",
   "execution_count": 13,
   "metadata": {},
   "outputs": [],
   "source": [
    "\n",
    "config = { 'dbname': 'dev', \n",
    "           'user':'root',\n",
    "           'pwd':'PublicoRoot1',\n",
    "           'host':'datampcluster.c7onviryvrw8.us-east-2.redshift.amazonaws.com',\n",
    "           'port':'5439'\n",
    "         }\n",
    "conn =  psycopg2.connect(dbname=config['dbname'], host=config['host'], \n",
    "                              port=config['port'], user=config['user'], \n",
    "                              password=config['pwd'])"
   ]
  },
  {
   "cell_type": "code",
   "execution_count": 14,
   "metadata": {},
   "outputs": [],
   "source": [
    "curs = conn.cursor()\n",
    "curs.execute(\"\"\" \n",
    "    DROP TABLE IF EXISTS serving_layer_temp; \n",
    "\n",
    "    SELECT \n",
    "         *\n",
    "    INTO \n",
    "        serving_layer_temp\n",
    "    FROM \n",
    "        batch_layer;\n",
    "\n",
    "\n",
    "\n",
    "    UPDATE \n",
    "        serving_layer_temp\n",
    "    SET\n",
    "        count_id = count_id + speed_layer.\"count(id)\",\n",
    "        sum_followers_count = sum_followers_count + speed_layer.\"sum(followers_count)\",\n",
    "        sum_favorite_count = sum_favorite_count + speed_layer.\"sum(favorite_count)\",\n",
    "        sum_retweet_count = sum_retweet_count + speed_layer.\"sum(retweet_count)\"\n",
    "    FROM\n",
    "        speed_layer\n",
    "    WHERE \n",
    "        serving_layer_temp.location = speed_layer.location ;\n",
    "\n",
    "\n",
    "\n",
    "    INSERT INTO \n",
    "        serving_layer_temp\n",
    "    SELECT \n",
    "        * \n",
    "    FROM \n",
    "        speed_layer\n",
    "    WHERE \n",
    "        speed_layer.location \n",
    "    NOT IN (\n",
    "        SELECT \n",
    "            DISTINCT location \n",
    "        FROM \n",
    "            serving_layer_temp \n",
    "    ) ;\n",
    "    \n",
    "    \n",
    "    drop table serving_layer ;\n",
    "    \n",
    "    alter table serving_layer_temp rename to serving_layer ;        \n",
    "    \n",
    "\"\"\")\n",
    "curs.close()\n",
    "conn.commit()\n",
    "conn.close()"
   ]
  },
  {
   "cell_type": "code",
   "execution_count": null,
   "metadata": {},
   "outputs": [],
   "source": []
  },
  {
   "cell_type": "code",
   "execution_count": null,
   "metadata": {},
   "outputs": [],
   "source": []
  }
 ],
 "metadata": {
  "kernelspec": {
   "display_name": "Python 3 (Spyder)",
   "language": "python3",
   "name": "python3"
  },
  "language_info": {
   "codemirror_mode": {
    "name": "ipython",
    "version": 3
   },
   "file_extension": ".py",
   "mimetype": "text/x-python",
   "name": "python",
   "nbconvert_exporter": "python",
   "pygments_lexer": "ipython3",
   "version": "3.6.5"
  }
 },
 "nbformat": 4,
 "nbformat_minor": 2
}
